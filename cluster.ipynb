{
 "cells": [
  {
   "cell_type": "code",
   "execution_count": 1,
   "metadata": {},
   "outputs": [
    {
     "name": "stderr",
     "output_type": "stream",
     "text": [
      "C:\\Users\\skr3w\\AppData\\Local\\Programs\\Python\\Python310\\lib\\site-packages\\numba\\core\\errors.py:193: UserWarning: Insufficiently recent colorama version found. Numba requires colorama >= 0.3.9\n",
      "  warnings.warn(msg)\n"
     ]
    }
   ],
   "source": [
    "import numpy as np\n",
    "import os\n",
    "import pandas as pd\n",
    "\n",
    "import umap.umap_ as umap\n",
    "import matplotlib.pyplot as plt\n",
    "\n",
    "import pickle \n",
    "import plotly.graph_objects as go"
   ]
  },
  {
   "cell_type": "code",
   "execution_count": 2,
   "metadata": {},
   "outputs": [],
   "source": [
    "emb_path = r\"F:\\Workspace\\bioshock-audio-clustering\\all_voicelines_emb\"\n"
   ]
  },
  {
   "cell_type": "code",
   "execution_count": 3,
   "metadata": {},
   "outputs": [],
   "source": [
    "# Load embeddings and index map\n",
    "embeddings = np.load(\"./all_embeddings.npy\")\n",
    "with open('./index_map.pkl', 'rb') as f:\n",
    "    index_map = pickle.load(f)"
   ]
  },
  {
   "cell_type": "code",
   "execution_count": 28,
   "metadata": {},
   "outputs": [],
   "source": [
    "# UMAP\n",
    "\n",
    "audio_files = [os.path.join(r\"F:\\Workspace\\bioshock-audio-clustering\\all_voicelines_wav\", index_map[i] + \".wav\") for i in range(len(index_map.keys()))]\n",
    "\n",
    "reducer = umap.UMAP(n_neighbors=20, min_dist=0.1, metric=\"euclidean\")\n",
    "embedding_2d = reducer.fit_transform(np.array(embeddings))"
   ]
  },
  {
   "cell_type": "code",
   "execution_count": 34,
   "metadata": {},
   "outputs": [
    {
     "name": "stderr",
     "output_type": "stream",
     "text": [
      "C:\\Users\\skr3w\\AppData\\Local\\Programs\\Python\\Python310\\lib\\site-packages\\sklearn\\manifold\\_t_sne.py:800: FutureWarning:\n",
      "\n",
      "The default initialization in TSNE will change from 'random' to 'pca' in 1.2.\n",
      "\n"
     ]
    }
   ],
   "source": [
    "# TSNE\n",
    "\n",
    "import os\n",
    "from sklearn.manifold import TSNE\n",
    "import numpy as np\n",
    "\n",
    "audio_files = [os.path.join(r\"F:\\Workspace\\bioshock-audio-clustering\\all_voicelines_wav\", index_map[i] + \".wav\") for i in range(len(index_map.keys()))]\n",
    "\n",
    "reducer = TSNE(n_components=2,  # Reduce to 2D\n",
    "               perplexity=60,    # Typical range: 5-50 (adjust based on dataset size)\n",
    "               learning_rate=200,\n",
    "               metric=\"euclidean\",\n",
    "               random_state=42,\n",
    "               n_iter=1000)      # Increase for better convergence\n",
    "\n",
    "embedding_2d = reducer.fit_transform(np.array(embeddings))"
   ]
  },
  {
   "cell_type": "code",
   "execution_count": null,
   "metadata": {},
   "outputs": [],
   "source": [
    "# # clustering with DBSCAN\n",
    "from sklearn.cluster import DBSCAN\n",
    "\n",
    "dbscan = DBSCAN(eps=0.5, min_samples=5)\n",
    "dbscan.fit(embedding_2d)"
   ]
  },
  {
   "cell_type": "code",
   "execution_count": 36,
   "metadata": {},
   "outputs": [],
   "source": [
    "df = pd.DataFrame({\n",
    "    \"UMAP1\": embedding_2d[:, 0],\n",
    "    \"UMAP2\": embedding_2d[:, 1],\n",
    "    \"audio_files\": audio_files\n",
    "})"
   ]
  },
  {
   "cell_type": "code",
   "execution_count": 16,
   "metadata": {},
   "outputs": [
    {
     "name": "stderr",
     "output_type": "stream",
     "text": [
      "C:\\Users\\skr3w\\AppData\\Local\\Temp\\ipykernel_18400\\2963426764.py:10: FutureWarning:\n",
      "\n",
      "get_duration() keyword argument 'filename' has been renamed to 'path' in version 0.10.0.\n",
      "\tThis alias will be removed in version 1.0.\n",
      "\n"
     ]
    }
   ],
   "source": [
    "import librosa\n",
    "\n",
    "def get_audio_duration(filepath):\n",
    "    duration = librosa.get_duration(filename=filepath)\n",
    "    return duration\n",
    "\n",
    "# Add duration column\n",
    "df['duration'] = df['audio_files'].apply(get_audio_duration)"
   ]
  },
  {
   "cell_type": "code",
   "execution_count": 19,
   "metadata": {},
   "outputs": [],
   "source": [
    "df_all = df"
   ]
  },
  {
   "cell_type": "code",
   "execution_count": 23,
   "metadata": {},
   "outputs": [
    {
     "data": {
      "text/html": [
       "<div>\n",
       "<style scoped>\n",
       "    .dataframe tbody tr th:only-of-type {\n",
       "        vertical-align: middle;\n",
       "    }\n",
       "\n",
       "    .dataframe tbody tr th {\n",
       "        vertical-align: top;\n",
       "    }\n",
       "\n",
       "    .dataframe thead th {\n",
       "        text-align: right;\n",
       "    }\n",
       "</style>\n",
       "<table border=\"1\" class=\"dataframe\">\n",
       "  <thead>\n",
       "    <tr style=\"text-align: right;\">\n",
       "      <th></th>\n",
       "      <th>UMAP1</th>\n",
       "      <th>UMAP2</th>\n",
       "      <th>audio_files</th>\n",
       "      <th>duration</th>\n",
       "    </tr>\n",
       "  </thead>\n",
       "  <tbody>\n",
       "    <tr>\n",
       "      <th>11</th>\n",
       "      <td>1.155244</td>\n",
       "      <td>-2.936456</td>\n",
       "      <td>F:\\Workspace\\bioshock-audio-clustering\\all_voi...</td>\n",
       "      <td>6.228000</td>\n",
       "    </tr>\n",
       "    <tr>\n",
       "      <th>14</th>\n",
       "      <td>-0.303304</td>\n",
       "      <td>3.889644</td>\n",
       "      <td>F:\\Workspace\\bioshock-audio-clustering\\all_voi...</td>\n",
       "      <td>5.908000</td>\n",
       "    </tr>\n",
       "    <tr>\n",
       "      <th>15</th>\n",
       "      <td>4.950957</td>\n",
       "      <td>-5.076347</td>\n",
       "      <td>F:\\Workspace\\bioshock-audio-clustering\\all_voi...</td>\n",
       "      <td>14.572000</td>\n",
       "    </tr>\n",
       "    <tr>\n",
       "      <th>16</th>\n",
       "      <td>0.221881</td>\n",
       "      <td>4.870303</td>\n",
       "      <td>F:\\Workspace\\bioshock-audio-clustering\\all_voi...</td>\n",
       "      <td>9.062667</td>\n",
       "    </tr>\n",
       "    <tr>\n",
       "      <th>17</th>\n",
       "      <td>2.791785</td>\n",
       "      <td>-0.538825</td>\n",
       "      <td>F:\\Workspace\\bioshock-audio-clustering\\all_voi...</td>\n",
       "      <td>3.382667</td>\n",
       "    </tr>\n",
       "    <tr>\n",
       "      <th>...</th>\n",
       "      <td>...</td>\n",
       "      <td>...</td>\n",
       "      <td>...</td>\n",
       "      <td>...</td>\n",
       "    </tr>\n",
       "    <tr>\n",
       "      <th>9560</th>\n",
       "      <td>5.425685</td>\n",
       "      <td>-0.086589</td>\n",
       "      <td>F:\\Workspace\\bioshock-audio-clustering\\all_voi...</td>\n",
       "      <td>3.322667</td>\n",
       "    </tr>\n",
       "    <tr>\n",
       "      <th>9561</th>\n",
       "      <td>3.705809</td>\n",
       "      <td>-3.727015</td>\n",
       "      <td>F:\\Workspace\\bioshock-audio-clustering\\all_voi...</td>\n",
       "      <td>3.153333</td>\n",
       "    </tr>\n",
       "    <tr>\n",
       "      <th>9566</th>\n",
       "      <td>0.084313</td>\n",
       "      <td>4.257648</td>\n",
       "      <td>F:\\Workspace\\bioshock-audio-clustering\\all_voi...</td>\n",
       "      <td>6.889333</td>\n",
       "    </tr>\n",
       "    <tr>\n",
       "      <th>9570</th>\n",
       "      <td>2.109828</td>\n",
       "      <td>-2.178634</td>\n",
       "      <td>F:\\Workspace\\bioshock-audio-clustering\\all_voi...</td>\n",
       "      <td>3.276000</td>\n",
       "    </tr>\n",
       "    <tr>\n",
       "      <th>9580</th>\n",
       "      <td>2.386340</td>\n",
       "      <td>0.040161</td>\n",
       "      <td>F:\\Workspace\\bioshock-audio-clustering\\all_voi...</td>\n",
       "      <td>4.086667</td>\n",
       "    </tr>\n",
       "  </tbody>\n",
       "</table>\n",
       "<p>1928 rows × 4 columns</p>\n",
       "</div>"
      ],
      "text/plain": [
       "         UMAP1     UMAP2                                        audio_files  \\\n",
       "11    1.155244 -2.936456  F:\\Workspace\\bioshock-audio-clustering\\all_voi...   \n",
       "14   -0.303304  3.889644  F:\\Workspace\\bioshock-audio-clustering\\all_voi...   \n",
       "15    4.950957 -5.076347  F:\\Workspace\\bioshock-audio-clustering\\all_voi...   \n",
       "16    0.221881  4.870303  F:\\Workspace\\bioshock-audio-clustering\\all_voi...   \n",
       "17    2.791785 -0.538825  F:\\Workspace\\bioshock-audio-clustering\\all_voi...   \n",
       "...        ...       ...                                                ...   \n",
       "9560  5.425685 -0.086589  F:\\Workspace\\bioshock-audio-clustering\\all_voi...   \n",
       "9561  3.705809 -3.727015  F:\\Workspace\\bioshock-audio-clustering\\all_voi...   \n",
       "9566  0.084313  4.257648  F:\\Workspace\\bioshock-audio-clustering\\all_voi...   \n",
       "9570  2.109828 -2.178634  F:\\Workspace\\bioshock-audio-clustering\\all_voi...   \n",
       "9580  2.386340  0.040161  F:\\Workspace\\bioshock-audio-clustering\\all_voi...   \n",
       "\n",
       "       duration  \n",
       "11     6.228000  \n",
       "14     5.908000  \n",
       "15    14.572000  \n",
       "16     9.062667  \n",
       "17     3.382667  \n",
       "...         ...  \n",
       "9560   3.322667  \n",
       "9561   3.153333  \n",
       "9566   6.889333  \n",
       "9570   3.276000  \n",
       "9580   4.086667  \n",
       "\n",
       "[1928 rows x 4 columns]"
      ]
     },
     "execution_count": 23,
     "metadata": {},
     "output_type": "execute_result"
    }
   ],
   "source": [
    "df_filtered = df_all[df_all['duration'] > 3]\n",
    "\n",
    "df_filtered"
   ]
  },
  {
   "cell_type": "code",
   "execution_count": 37,
   "metadata": {},
   "outputs": [
    {
     "data": {
      "application/vnd.jupyter.widget-view+json": {
       "model_id": "9e19e8cac3164381ac7ba5182133fd68",
       "version_major": 2,
       "version_minor": 0
      },
      "text/plain": [
       "FigureWidget({\n",
       "    'data': [{'customdata': array(['F:\\\\Workspace\\\\bioshock-audio-clustering\\\\all_voicelines_wav\\\\pck-1.wav',\n",
       "                                   'F:\\\\Workspace\\\\bioshock-audio-clustering\\\\all_voicelines_wav\\\\pck-10.wav',\n",
       "                                   'F:\\\\Workspace\\\\bioshock-audio-clustering\\\\all_voicelines_wav\\\\pck-100.wav',\n",
       "                                   ...,\n",
       "                                   'F:\\\\Workspace\\\\bioshock-audio-clustering\\\\all_voicelines_wav\\\\pck-997.wav',\n",
       "                                   'F:\\\\Workspace\\\\bioshock-audio-clustering\\\\all_voicelines_wav\\\\pck-998.wav',\n",
       "                                   'F:\\\\Workspace\\\\bioshock-audio-clustering\\\\all_voicelines_wav\\\\pck-999.wav'],\n",
       "                                  dtype=object),\n",
       "              'hoverinfo': 'text',\n",
       "              'marker': {'color': 'blue', 'size': 10},\n",
       "              'mode': 'markers',\n",
       "              'text': array(['F:\\\\Workspace\\\\bioshock-audio-clustering\\\\all_voicelines_wav\\\\pck-1008.wav',\n",
       "                             'F:\\\\Workspace\\\\bioshock-audio-clustering\\\\all_voicelines_wav\\\\pck-1010.wav',\n",
       "                             'F:\\\\Workspace\\\\bioshock-audio-clustering\\\\all_voicelines_wav\\\\pck-1011.wav',\n",
       "                             ...,\n",
       "                             'F:\\\\Workspace\\\\bioshock-audio-clustering\\\\all_voicelines_wav\\\\pck-984.wav',\n",
       "                             'F:\\\\Workspace\\\\bioshock-audio-clustering\\\\all_voicelines_wav\\\\pck-988.wav',\n",
       "                             'F:\\\\Workspace\\\\bioshock-audio-clustering\\\\all_voicelines_wav\\\\pck-997.wav'],\n",
       "                            dtype=object),\n",
       "              'type': 'scatter',\n",
       "              'uid': 'e92f1799-ae4d-48e0-b61a-c1364570be4d',\n",
       "              'x': {'bdata': ('M17lQLFmAUL4ZtxBN1eiQSB0BkDw8j' ... 'HON6vB3Pu7QZCVEsEIc41BfKa6QQ=='),\n",
       "                    'dtype': 'f4'},\n",
       "              'y': {'bdata': ('jF6EQXrXOkHi4WjBJflQwdQO00D365' ... 'Gp7A7A0uu3QcAMq8EdSZpAU42AQA=='),\n",
       "                    'dtype': 'f4'}}],\n",
       "    'layout': {'height': 800,\n",
       "               'margin': {'b': 20, 'l': 20, 'r': 20, 't': 40},\n",
       "               'template': '...',\n",
       "               'title': {'text': 'UMAP Clustering (Click to play audio)'},\n",
       "               'width': 1200,\n",
       "               'xaxis': {'title': {'text': 'UMAP Dimension 1'}},\n",
       "               'yaxis': {'title': {'text': 'UMAP Dimension 2'}}}\n",
       "})"
      ]
     },
     "metadata": {},
     "output_type": "display_data"
    },
    {
     "data": {
      "application/vnd.jupyter.widget-view+json": {
       "model_id": "fb85fa95cdc64e70931664db8c1bba63",
       "version_major": 2,
       "version_minor": 0
      },
      "text/plain": [
       "Output()"
      ]
     },
     "metadata": {},
     "output_type": "display_data"
    }
   ],
   "source": [
    "import pandas as pd\n",
    "import plotly.graph_objects as go\n",
    "from ipywidgets import Output\n",
    "from IPython.display import display, Audio\n",
    "import os\n",
    "\n",
    "\n",
    "\n",
    "# Create FigureWidget\n",
    "fig = go.FigureWidget()\n",
    "\n",
    "fig.add_trace(go.Scatter(\n",
    "    x=df[\"UMAP1\"],\n",
    "    y=df[\"UMAP2\"],\n",
    "    mode=\"markers\",\n",
    "    marker=dict(size=10, color='blue'),\n",
    "    text=df_filtered[\"audio_files\"],\n",
    "    hoverinfo=\"text\",\n",
    "    customdata=df[\"audio_files\"]\n",
    "))\n",
    "\n",
    "fig.update_layout(\n",
    "    title=\"UMAP Clustering (Click to play audio)\",\n",
    "    xaxis_title=\"UMAP Dimension 1\",\n",
    "    yaxis_title=\"UMAP Dimension 2\",\n",
    "    width=1200,  # Wider\n",
    "    height=800,  # Taller\n",
    "    margin=dict(l=20, r=20, b=20, t=40),  # Minimize margins\n",
    ")\n",
    "\n",
    "# Create an output area for the audio\n",
    "audio_out = Output()\n",
    "\n",
    "def handle_click(trace, points, selector):\n",
    "    with audio_out:\n",
    "        audio_out.clear_output()\n",
    "        if points.point_inds:\n",
    "            index = points.point_inds[0]\n",
    "            audio_file = trace.customdata[index]\n",
    "            display(Audio(filename=audio_file))\n",
    "\n",
    "fig.data[0].on_click(handle_click)\n",
    "\n",
    "# Display the figure and output area\n",
    "display(fig)\n",
    "display(audio_out)"
   ]
  }
 ],
 "metadata": {
  "kernelspec": {
   "display_name": "Python 3 (ipykernel)",
   "language": "python",
   "name": "python3"
  },
  "language_info": {
   "codemirror_mode": {
    "name": "ipython",
    "version": 3
   },
   "file_extension": ".py",
   "mimetype": "text/x-python",
   "name": "python",
   "nbconvert_exporter": "python",
   "pygments_lexer": "ipython3",
   "version": "3.10.5"
  }
 },
 "nbformat": 4,
 "nbformat_minor": 4
}
